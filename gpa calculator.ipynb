{
 "cells": [
  {
   "cell_type": "code",
   "execution_count": 17,
   "metadata": {},
   "outputs": [],
   "source": [
    "def gpa(credits, score):\n",
    "    output = []\n",
    "    for i in score:\n",
    "        if i>=90:\n",
    "            output.append(4)\n",
    "        elif i >=85:\n",
    "            output.append(3.7)\n",
    "        elif i >=82:\n",
    "            output.append(3.3)\n",
    "        elif i >=78:\n",
    "            output.append(3)\n",
    "        elif i >=75:\n",
    "            output.append(2.7)\n",
    "        elif i >=72:\n",
    "            output.append(2.3)\n",
    "        elif i >=68:\n",
    "            output.append(2)\n",
    "        elif i >=64:\n",
    "            output.append(1.5)\n",
    "        elif i >=60:\n",
    "            output.append(1)\n",
    "    return sum([credits[i]*output[i] for i in range(len(output))])/sum(credits)"
   ]
  },
  {
   "cell_type": "code",
   "execution_count": 18,
   "metadata": {},
   "outputs": [
    {
     "data": {
      "text/plain": [
       "2.860576923076923"
      ]
     },
     "execution_count": 18,
     "metadata": {},
     "output_type": "execute_result"
    }
   ],
   "source": [
    "credits = [1.5, 3,2,5.5,3,3,1,1.5,3,3,3,5.5,4,3,3,3,1,1,1,1]\n",
    "score = [85,80,90,84,80,74,89,85,90,73,80,60,67,85,82,77,88,83,85,85]\n",
    "gpa(credits, score)"
   ]
  },
  {
   "cell_type": "code",
   "execution_count": 21,
   "metadata": {},
   "outputs": [
    {
     "name": "stdout",
     "output_type": "stream",
     "text": [
      "2.9673076923076924\n"
     ]
    }
   ],
   "source": [
    "credits = [2,2.5,.5,1.5,3,3,3.5,2.5,1,2,2,1,2,2,1,2,2,2.5,.5,1.5,3.5,1,4,3.5,2]\n",
    "scores = [85,75,85,66,72,86,83,77,92,87,84,78,75,75,74,85,85,82,95,85,70,85,62,87,85]\n",
    "if len(credits)==len(scores):\n",
    "    print(gpa(credits,scores))\n"
   ]
  },
  {
   "cell_type": "code",
   "execution_count": 23,
   "metadata": {},
   "outputs": [
    {
     "name": "stdout",
     "output_type": "stream",
     "text": [
      "3.4183673469387763\n"
     ]
    }
   ],
   "source": [
    "credits = [1.5,4,2,1.5,2,2,4,1,2,3.5,2,2.5,2.5,2,2,1,1,2,1,1.5,3,2,2,1]\n",
    "scores = [85,92,80,78,90,86,86,97,84,73,87,77,68,80,85,85,85,90,90,88,90,85,80,85]\n",
    "if len(credits)==len(scores):\n",
    "    print(gpa(credits,scores))"
   ]
  },
  {
   "cell_type": "code",
   "execution_count": 24,
   "metadata": {},
   "outputs": [
    {
     "name": "stdout",
     "output_type": "stream",
     "text": [
      "2.8268292682926828\n"
     ]
    }
   ],
   "source": [
    "credits = [2,2,1.5,1,2,10,2]\n",
    "scores = [87,72,85,79,65,77,85]\n",
    "if len(credits)==len(scores):\n",
    "    print(gpa(credits,scores))"
   ]
  },
  {
   "cell_type": "code",
   "execution_count": null,
   "metadata": {},
   "outputs": [],
   "source": []
  }
 ],
 "metadata": {
  "kernelspec": {
   "display_name": "Python 3",
   "language": "python",
   "name": "python3"
  },
  "language_info": {
   "codemirror_mode": {
    "name": "ipython",
    "version": 3
   },
   "file_extension": ".py",
   "mimetype": "text/x-python",
   "name": "python",
   "nbconvert_exporter": "python",
   "pygments_lexer": "ipython3",
   "version": "3.8.5"
  }
 },
 "nbformat": 4,
 "nbformat_minor": 4
}
